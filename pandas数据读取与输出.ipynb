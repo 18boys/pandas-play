{
 "cells": [
  {
   "cell_type": "code",
   "execution_count": 1,
   "id": "1c310dc5",
   "metadata": {},
   "outputs": [],
   "source": [
    "import pandas as pd\n",
    "import numpy as np\n",
    "df = pd.DataFrame({'国家': ['中国', '美国', '日本'],  '地区': ['亚洲', '北美', '亚洲'],'人口': [13.97, 3.28, 1.26], 'GDP': [14.34, 21.43, 5.08],                  })"
   ]
  },
  {
   "cell_type": "code",
   "execution_count": 52,
   "id": "ddfd1a2f",
   "metadata": {},
   "outputs": [
    {
     "data": {
      "text/html": [
       "<div>\n",
       "<style scoped>\n",
       "    .dataframe tbody tr th:only-of-type {\n",
       "        vertical-align: middle;\n",
       "    }\n",
       "\n",
       "    .dataframe tbody tr th {\n",
       "        vertical-align: top;\n",
       "    }\n",
       "\n",
       "    .dataframe thead th {\n",
       "        text-align: right;\n",
       "    }\n",
       "</style>\n",
       "<table border=\"1\" class=\"dataframe\">\n",
       "  <thead>\n",
       "    <tr style=\"text-align: right;\">\n",
       "      <th></th>\n",
       "      <th>col2</th>\n",
       "    </tr>\n",
       "    <tr>\n",
       "      <th>col1</th>\n",
       "      <th></th>\n",
       "    </tr>\n",
       "  </thead>\n",
       "  <tbody>\n",
       "    <tr>\n",
       "      <th>a</th>\n",
       "      <td>b</td>\n",
       "    </tr>\n",
       "    <tr>\n",
       "      <th>a</th>\n",
       "      <td>b</td>\n",
       "    </tr>\n",
       "    <tr>\n",
       "      <th>c</th>\n",
       "      <td>d</td>\n",
       "    </tr>\n",
       "  </tbody>\n",
       "</table>\n",
       "</div>"
      ],
      "text/plain": [
       "     col2\n",
       "col1     \n",
       "a       b\n",
       "a       b\n",
       "c       d"
      ]
     },
     "execution_count": 52,
     "metadata": {},
     "output_type": "execute_result"
    }
   ],
   "source": [
    "# 读取csv\n",
    "\n",
    "## 使用URL 可以直接读取远端数据\n",
    "df1 = pd.read_csv('https://www.gairuo.com/file/data/dataset/GDP-China.csv')\n",
    "df1.set_index('年份', inplace=True)\n",
    "df1\n",
    "\n",
    "## 读取字符串csv  所以对于之前那种情况，可以先按照json来读取，拿到对象，然后用StringIO处理之后就可以按照csv来读取\n",
    "## 注意默认分割符是逗号  可以通过sep参数设置为其他值\n",
    "from io import StringIO\n",
    "data = ('col1,col2,col3\\n'\n",
    "        'a,b,1\\n'        \n",
    "        'a,b,2\\n'      \n",
    "        'c,d,3')\n",
    "df2 = pd.read_csv(StringIO(data))\n",
    "df2\n",
    "\n",
    "## 读取的时候可以设置表头,默认是第一行为表头\n",
    "## df2 = pd.read_csv(StringIO(data),header=None)\n",
    "df2 = pd.read_csv(StringIO(data),header=[0,1,2]) # 多层索引\n",
    "df2\n",
    "\n",
    "## 设置列名&索引：如果文件不包含列名，可以通过names来设置；index_col设置第几列是索引（序列号或者列名都可）\n",
    "df2 = pd.read_csv(StringIO(data),header=None, names=['列1', '列2', '列3'], index_col = 0) \n",
    "df2 = pd.read_csv(StringIO(data),header=0, index_col='col1') \n",
    "\n",
    "\n",
    "\n",
    "## 使用部分列\n",
    "df2 = pd.read_csv(StringIO(data),header=0, index_col='col1', usecols=['col1','col2']) \n",
    "df2\n",
    "\n",
    "## 使用部分列,callbale\n",
    "df2 = pd.read_csv(StringIO(data),header=0, index_col='col1', usecols=lambda x: x.lower() in ['col1','col2']) \n",
    "df2\n"
   ]
  },
  {
   "cell_type": "code",
   "execution_count": null,
   "id": "8793f9e6",
   "metadata": {},
   "outputs": [],
   "source": [
    "# 读取excel\n",
    "# 返回DataFrame\n",
    "# pd.read_excel('team.xlsx') # 默认读取第一个标签页Sheet\n",
    "# pd.read_excel('path_to_file.xlsx', sheet_name='Sheet1') # 指定Sheet\n",
    "# 从URL读取\n",
    "# pd.read_excel('https://www.gairuo.com/file/data/dataset/team.xlsx')"
   ]
  },
  {
   "cell_type": "code",
   "execution_count": 16,
   "id": "ddee3d83",
   "metadata": {},
   "outputs": [
    {
     "data": {
      "text/html": [
       "<div>\n",
       "<style scoped>\n",
       "    .dataframe tbody tr th:only-of-type {\n",
       "        vertical-align: middle;\n",
       "    }\n",
       "\n",
       "    .dataframe tbody tr th {\n",
       "        vertical-align: top;\n",
       "    }\n",
       "\n",
       "    .dataframe thead th {\n",
       "        text-align: right;\n",
       "    }\n",
       "</style>\n",
       "<table border=\"1\" class=\"dataframe\">\n",
       "  <thead>\n",
       "    <tr style=\"text-align: right;\">\n",
       "      <th></th>\n",
       "      <th>0</th>\n",
       "      <th>1</th>\n",
       "      <th>2</th>\n",
       "    </tr>\n",
       "  </thead>\n",
       "  <tbody>\n",
       "    <tr>\n",
       "      <th>0</th>\n",
       "      <td>1</td>\n",
       "      <td>2</td>\n",
       "      <td>3</td>\n",
       "    </tr>\n",
       "    <tr>\n",
       "      <th>1</th>\n",
       "      <td>4</td>\n",
       "      <td>5</td>\n",
       "      <td>6</td>\n",
       "    </tr>\n",
       "  </tbody>\n",
       "</table>\n",
       "</div>"
      ],
      "text/plain": [
       "   0  1  2\n",
       "0  1  2  3\n",
       "1  4  5  6"
      ]
     },
     "execution_count": 16,
     "metadata": {},
     "output_type": "execute_result"
    }
   ],
   "source": [
    "# 读取json， 可以直接读取并获取接口数据，通过取值就可以将二维数组转换成df\n",
    "df2 = pd.read_json('http://yapi.sankuai.com/thrift/mock/project/12291/gundam/sign')\n",
    "df3 = pd.DataFrame(df2.data.list)\n",
    "df3"
   ]
  },
  {
   "cell_type": "code",
   "execution_count": null,
   "id": "21e53b83",
   "metadata": {},
   "outputs": [],
   "source": [
    "# 能不能将csv字符串直接转成df呢  等下看完详细章节再补充\n",
    "df4 = pd.read_csv()\n"
   ]
  },
  {
   "cell_type": "code",
   "execution_count": null,
   "id": "691bc465",
   "metadata": {},
   "outputs": [],
   "source": [
    "# 读取html\n",
    "# pd.read_html()函数可以接受HTML字符串、HTML文件、URL，并将HTML中的<table>标签表格数据解析为DataFrame\n"
   ]
  },
  {
   "cell_type": "code",
   "execution_count": 67,
   "id": "8f14aa14",
   "metadata": {},
   "outputs": [
    {
     "data": {
      "text/html": [
       "<div>\n",
       "<style scoped>\n",
       "    .dataframe tbody tr th:only-of-type {\n",
       "        vertical-align: middle;\n",
       "    }\n",
       "\n",
       "    .dataframe tbody tr th {\n",
       "        vertical-align: top;\n",
       "    }\n",
       "\n",
       "    .dataframe thead th {\n",
       "        text-align: right;\n",
       "    }\n",
       "</style>\n",
       "<table border=\"1\" class=\"dataframe\">\n",
       "  <thead>\n",
       "    <tr style=\"text-align: right;\">\n",
       "      <th></th>\n",
       "      <th>a</th>\n",
       "      <th>b</th>\n",
       "      <th>c</th>\n",
       "    </tr>\n",
       "  </thead>\n",
       "  <tbody>\n",
       "    <tr>\n",
       "      <th>0</th>\n",
       "      <td>1</td>\n",
       "      <td>True</td>\n",
       "      <td>2</td>\n",
       "    </tr>\n",
       "    <tr>\n",
       "      <th>1</th>\n",
       "      <td>3</td>\n",
       "      <td>False</td>\n",
       "      <td></td>\n",
       "    </tr>\n",
       "  </tbody>\n",
       "</table>\n",
       "</div>"
      ],
      "text/plain": [
       "   a      b  c\n",
       "0  1   True  2\n",
       "1  3  False   "
      ]
     },
     "execution_count": 67,
     "metadata": {},
     "output_type": "execute_result"
    }
   ],
   "source": [
    "# 列表，默认为None\n",
    "data = ('a,b,c\\n1,Yes,2\\n3,No,\"\"')\n",
    "# 保留默认空值\n",
    "pd.read_csv(StringIO(data),  true_values=['Yes'], false_values=['No'],keep_default_na=False, na_values='?') "
   ]
  },
  {
   "cell_type": "code",
   "execution_count": null,
   "id": "cbf59373",
   "metadata": {},
   "outputs": [],
   "source": []
  },
  {
   "cell_type": "code",
   "execution_count": null,
   "id": "fdfcfb9b",
   "metadata": {},
   "outputs": [],
   "source": []
  },
  {
   "cell_type": "code",
   "execution_count": null,
   "id": "a8f3ff9b",
   "metadata": {},
   "outputs": [],
   "source": []
  },
  {
   "cell_type": "code",
   "execution_count": null,
   "id": "57e1670e",
   "metadata": {},
   "outputs": [],
   "source": []
  },
  {
   "cell_type": "code",
   "execution_count": null,
   "id": "33529143",
   "metadata": {},
   "outputs": [],
   "source": []
  },
  {
   "cell_type": "code",
   "execution_count": null,
   "id": "23ee07c4",
   "metadata": {},
   "outputs": [],
   "source": []
  },
  {
   "cell_type": "code",
   "execution_count": null,
   "id": "1ef4ed62",
   "metadata": {},
   "outputs": [],
   "source": []
  },
  {
   "cell_type": "code",
   "execution_count": null,
   "id": "e607edce",
   "metadata": {},
   "outputs": [],
   "source": []
  },
  {
   "cell_type": "code",
   "execution_count": null,
   "id": "75b44675",
   "metadata": {},
   "outputs": [],
   "source": []
  },
  {
   "cell_type": "code",
   "execution_count": null,
   "id": "605d362c",
   "metadata": {},
   "outputs": [],
   "source": []
  }
 ],
 "metadata": {
  "kernelspec": {
   "display_name": "Python 3 (ipykernel)",
   "language": "python",
   "name": "python3"
  },
  "language_info": {
   "codemirror_mode": {
    "name": "ipython",
    "version": 3
   },
   "file_extension": ".py",
   "mimetype": "text/x-python",
   "name": "python",
   "nbconvert_exporter": "python",
   "pygments_lexer": "ipython3",
   "version": "3.8.2"
  }
 },
 "nbformat": 4,
 "nbformat_minor": 5
}
