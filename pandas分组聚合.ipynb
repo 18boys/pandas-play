{
 "cells": [
  {
   "cell_type": "code",
   "execution_count": 1,
   "id": "fa03b4de",
   "metadata": {},
   "outputs": [
    {
     "name": "stdout",
     "output_type": "stream",
     "text": [
      "   Animal  MaxSpeed  height\n",
      "0  Falcon     380.0      23\n",
      "1  Falcon     370.0      46\n",
      "2  Parrot      24.0     123\n",
      "3  Parrot      26.0     234\n"
     ]
    }
   ],
   "source": [
    "import pandas as pd\n",
    "import numpy as np\n",
    "df = pd.DataFrame({'Animal': ['Falcon', 'Falcon',\n",
    "                        'Parrot', 'Parrot'],\n",
    "               'MaxSpeed': [380., 370., 24., 26.],\n",
    "                  'height': [23, 46, 123, 234]\n",
    "                  })\n",
    "print(df)"
   ]
  },
  {
   "cell_type": "code",
   "execution_count": 10,
   "id": "00884d6f",
   "metadata": {},
   "outputs": [
    {
     "name": "stdout",
     "output_type": "stream",
     "text": [
      "0    F\n",
      "1    F\n",
      "2    P\n",
      "3    P\n",
      "Name: Animal, dtype: object\n"
     ]
    }
   ],
   "source": [
    "df1=df['Animal'].apply(lambda x:x[0])\n",
    "print(df1)"
   ]
  },
  {
   "cell_type": "code",
   "execution_count": null,
   "id": "5f70fec1",
   "metadata": {},
   "outputs": [],
   "source": []
  }
 ],
 "metadata": {
  "kernelspec": {
   "display_name": "Python 3 (ipykernel)",
   "language": "python",
   "name": "python3"
  },
  "language_info": {
   "codemirror_mode": {
    "name": "ipython",
    "version": 3
   },
   "file_extension": ".py",
   "mimetype": "text/x-python",
   "name": "python",
   "nbconvert_exporter": "python",
   "pygments_lexer": "ipython3",
   "version": "3.8.2"
  }
 },
 "nbformat": 4,
 "nbformat_minor": 5
}
