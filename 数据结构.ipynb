{
 "cells": [
  {
   "cell_type": "code",
   "execution_count": null,
   "id": "af6c44c8",
   "metadata": {},
   "outputs": [],
   "source": [
    "import pandas as pd\n",
    "df = pd.read_excel('./team.xlsx')"
   ]
  },
  {
   "cell_type": "code",
   "execution_count": 7,
   "id": "05391e6c",
   "metadata": {},
   "outputs": [
    {
     "data": {
      "text/plain": [
       "5"
      ]
     },
     "execution_count": 7,
     "metadata": {},
     "output_type": "execute_result"
    }
   ],
   "source": [
    "# 判断类型\n",
    "type(123)\n",
    "isinstance(123,int)\n",
    "class a:\n",
    "    x=5\n",
    "issubclass(a,int)\n",
    "class b(a):\n",
    "    x=6\n",
    "issubclass(b,a)\n",
    "\n",
    "# 地板除\n",
    "11//2\n"
   ]
  },
  {
   "cell_type": "code",
   "execution_count": 9,
   "id": "dcfa1270",
   "metadata": {},
   "outputs": [
    {
     "data": {
      "text/plain": [
       "12"
      ]
     },
     "execution_count": 9,
     "metadata": {},
     "output_type": "execute_result"
    }
   ],
   "source": [
    "# 字符串操作\n",
    "var = 'hello world!'\n",
    "var[::-1] # 反转字符\n",
    "len('good') # 4 （字符的长度）\n",
    "'good'.replace('g', 'G') # 'Good' （替换字符）\n",
    "'山-水-风-雨'.split('-') # ['山', '水', '风', '雨'] （用指定字符分隔，默认空格）\n",
    "'好山好水好风光'.split('好') # ['', '山', '水', '风光']\n",
    "'-'.join(['山','水','风','雨']) # \n",
    "'山-水-风-雨''和'.join(['诗', '远方']) # '诗和远方'\n",
    "'good'.upper() # 'GOOD' （全转大写）\n",
    "'GOOD'.lower() # 'good' （全转小写）\n",
    "'Good Bye'.swapcase() # 'gOOD bYE' （大小写互换）\n",
    "'good'.capitalize() # 'Good' （首字母转大写）\n",
    "'good'.islower() # True （是否全是小写）\n",
    "'good'.isupper() # False （是否全是大写）\n",
    "'3月'.zfill(3) # '03月' （指定长度，如长度不够，前面补0）"
   ]
  },
  {
   "cell_type": "code",
   "execution_count": 16,
   "id": "19b22374",
   "metadata": {},
   "outputs": [
    {
     "data": {
      "text/plain": [
       "True"
      ]
     },
     "execution_count": 16,
     "metadata": {},
     "output_type": "execute_result"
    }
   ],
   "source": [
    "# 布尔\n",
    "not {} # 注意{}为假  和js不同\n",
    "# 下列变量检测均是false\n",
    "# None、False\n",
    "# 数值中的0、0.0、0j（虚数）、Decimal(0)、Fraction(0, 1)\n",
    "# 空字符串\"\"、空元组()、空列表[]\n",
    "# 空字典{}、空集合set()\n",
    "# 对象默认为True，除非它有bool()方法且返回False，或有len()方法且返回0\n",
    "\n",
    "1 or 0  # 1\n",
    "0 or 1  # 1\n",
    "0 and 1 # 0\n",
    "not 0  # True"
   ]
  },
  {
   "cell_type": "code",
   "execution_count": 17,
   "id": "c451d503",
   "metadata": {},
   "outputs": [
    {
     "data": {
      "text/plain": [
       "list"
      ]
     },
     "execution_count": 17,
     "metadata": {},
     "output_type": "execute_result"
    }
   ],
   "source": [
    "# 列表\n",
    "type([]) # list\n",
    "a = [1, 2, 3]\n",
    "len(a) # 3（元素个数）\n",
    "max(a) # 3（最大值）\n",
    "min(a) # 1（最小值）\n",
    "sum(a) # 6（求和）\n",
    "a.index(2) # 1（指定元素位置）\n",
    "a.count(1) # 1（求元素的个数）\n",
    "for i in a: print(i)# 迭代元素\n",
    "sorted(a) # 返回一个排序的列表，但不改变原列表\n",
    "any(a) # True（是否至少有一个元素为真）\n",
    "all(a) # True（是否所有元素为真）\n",
    "a.append(4) # a: [1, 2, 3, 4]（增加一个元素）\n",
    "a.pop() # 每执行一次，删除最后一个元素\n",
    "a.extend([9,8]) # a: [1, 2, 3, 9, 8]（与其他列表合并）\n",
    "a.insert(1, 'a') # a: [1, 'a', 2, 3]（在指定索引位插入元素，索引从0开始）\n",
    "a.remove('a') # 删除第一个指定元素\n",
    "a.clear() # []（清空）\n",
    "\n",
    "# 推导式\n",
    "# 将一个可迭代的对象展开，形成一个列表\n",
    "[i for i in range(5)]# [0, 1, 2, 3, 4]\n",
    "\n",
    "# 可以将结果进行处理\n",
    "['第'+str(i) for i in range(5)]# ['第0', '第1', '第2', '第3', '第4']\n",
    "\n",
    "# 可以进行条件筛选，实现取偶数\n",
    "[i for i in range(5) if i%2==0]\n",
    "\n",
    "# 拆开字符，过滤空格，全变成大写\n",
    "[i.upper() for i in 'Hello world' if i != ' ']# ['H', 'E', 'L', 'L', 'O', 'W', 'O', 'R', 'L', 'D']"
   ]
  },
  {
   "cell_type": "code",
   "execution_count": 21,
   "id": "31e11501",
   "metadata": {},
   "outputs": [
    {
     "data": {
      "text/plain": [
       "5"
      ]
     },
     "execution_count": 21,
     "metadata": {},
     "output_type": "execute_result"
    }
   ],
   "source": [
    "# 元祖\n",
    "# 要掌握元组的解包操作，这些操作可以让我们灵活地赋值、定义函数、传参，非常方便。\n",
    "x = (1,2,3,4,5)\n",
    "\n",
    "a, *b = x # a占第一个，剩余的组成列表全给b\n",
    "# a -> 1\n",
    "# b -> [2, 3, 4, 5]\n",
    "# a, b -> (1, [2, 3, 4, 5])\n",
    "\n",
    "a, *b, c = x # a占第一个，c占最后一个，剩余的组成列表全给b\n",
    "# a -> 1\n",
    "# b -> [2, 3, 4]\n",
    "# c -> 5\n",
    "# a, b, c -> (1, [2, 3, 4], 5)\n",
    "c"
   ]
  },
  {
   "cell_type": "code",
   "execution_count": null,
   "id": "920fcdb9",
   "metadata": {},
   "outputs": [],
   "source": [
    "# 字典定义\n",
    "d = {} # 定义空字典\n",
    "d = dict() # 定义空字典\n",
    "d = {'a': 1, 'b': 2, 'c': 3}d = {'a': 1, 'a': 1, 'a': 1} # {'a': 1} key不能重复，重复时取最后一个\n",
    "d = {'a': 1, 'b': {'x': 3}} # 嵌套字典\n",
    "d = {'a': [1,2,3], 'b': [4,5,6]} # 嵌套列表\n",
    "\n",
    "# 以下均可定义如下结果\n",
    "# {'name': 'Tom', 'age': 18, 'height': 180}\n",
    "d = dict(name='Tom', age=18, height=180)\n",
    "d = dict([('name', 'Tom'), ('age', 18), ('height', 180)])\n",
    "d = dict(zip(['name', 'age', 'height'], ['Tom', 18, 180]))\n",
    "\n",
    "# 常用操作\n",
    "d.pop('name') # 'Tom'（删除指定key）\n",
    "d.popitem() # 随机删除某一项\n",
    "del d['name']  # 删除键值对\n",
    "d.clear()  # 清空字典\n",
    "\n",
    "# 按类型访问，可迭代\n",
    "d.keys() # 列出所有键\n",
    "d.values() # 列出所有值\n",
    "d.items() # 列出所有键值对元组（k, v）\n",
    "\n",
    "# 操作\n",
    "d.setdefault('a', 3) # 插入一个键并给定默认值3，如不指定，则为None\n",
    "d1.update(dict2) # 将字典dict2的键值对添加到字典dict\n",
    "\n",
    "# 如果键存在，则返回其对应值；如果键不在字典中，则返回默认值\n",
    "d.get('math', 100) # 100\n",
    "d2 = d.copy() # 深拷贝，d变化不影响d2\n",
    "d = {'a': 1, 'b': 2, 'c': 3}\n",
    "max(d) # 'c'（最大的键）\n",
    "min(d) # 'a'（最小的键）\n",
    "len(d) # 3（字典的长度）\n",
    "str(d) # \"{'a': 1, 'b': 2, 'c': 3}\"（字符串形式）\n",
    "any(d) # True（只要一个键为True）\n",
    "all(d) # True（所有键都为True）\n",
    "sorted(d) # ['a', 'b', 'c']（所有键的列表排序）"
   ]
  },
  {
   "cell_type": "code",
   "execution_count": 22,
   "id": "b4d6ff90",
   "metadata": {},
   "outputs": [],
   "source": [
    "# 集合\n",
    "\n",
    "# 定义\n",
    "s = {} # 空集合\n",
    "s = {'5元', '10元', '20元'} \n",
    "# 定义集合\n",
    "s = set() # 空集合\n",
    "s = set([1,2,3,4,5]) # {1, 2, 3, 4, 5}（使用列表定义）\n",
    "s = {1, True, 'a'}\n",
    "s = {1, 1, 1} # {1}（去重）\n",
    "type(s) # set（类型检测）\n",
    "\n",
    "\n",
    "# 操作\n",
    "s = {'a', 'b', 'c'}\n",
    "\n",
    "# 判断是否有某个元素\n",
    "'a' in s # True\n",
    "# 添加元素\n",
    "s.add(2) # {2, 'a', 'b', 'c'}\n",
    "s.update([1,3,4]) # {1, 2, 3, 4, 'a', 'b', 'c'}\n",
    "# 删除和清空元素\n",
    "s.remove('a') # {'b', 'c'}（删除不存在的会报错）\n",
    "s.discard('3') # 删除一个元素，无则忽略，不报错\n",
    "s.clear() # set()（清空）\n",
    "\n",
    "# 运算\n",
    "s1 = {1,2,3}\n",
    "s2 = {2,3,4}\n",
    "\n",
    "s1 & s2 # {2, 3}（交集）\n",
    "s1.intersection(s2) # {2, 3}（交集）\n",
    "s1.intersection_update(s2) # {2, 3}（交集，会覆盖s1）\n",
    "\n",
    "s1 | s2  # {1, 2, 3, 4}（并集）\n",
    "s1.union(s2) # {1, 2, 3, 4}（并集）\n",
    "\n",
    "s1.difference(s2) # {1}（差集）\n",
    "s1.difference_update(s2) # {1}（差集，会覆盖s1）\n",
    "\n",
    "s1.symmetric_difference(s2) # {1, 4}（交集之外）\n",
    "s1.isdisjoint(s2) # False（是否没有交集）\n",
    "s1.issubset(s2) # False （s1是否是s2的子集）\n",
    "s1.issuperset(s2) # False（s1是否是s2的超集，即s1是否包含s2中的所有元素）"
   ]
  },
  {
   "cell_type": "code",
   "execution_count": null,
   "id": "5ea3a960",
   "metadata": {},
   "outputs": [],
   "source": []
  }
 ],
 "metadata": {
  "kernelspec": {
   "display_name": "Python 3 (ipykernel)",
   "language": "python",
   "name": "python3"
  },
  "language_info": {
   "codemirror_mode": {
    "name": "ipython",
    "version": 3
   },
   "file_extension": ".py",
   "mimetype": "text/x-python",
   "name": "python",
   "nbconvert_exporter": "python",
   "pygments_lexer": "ipython3",
   "version": "3.8.2"
  }
 },
 "nbformat": 4,
 "nbformat_minor": 5
}
